{
 "cells": [
  {
   "cell_type": "markdown",
   "id": "1c201f13",
   "metadata": {},
   "source": [
    "####  1) A company decided to give bonus of 5% to employee if his/her year of service is more than 5 years. Ask user for their salary and year of service and print the net bonus amount."
   ]
  },
  {
   "cell_type": "code",
   "execution_count": 2,
   "id": "ddd5cf99",
   "metadata": {},
   "outputs": [
    {
     "name": "stdout",
     "output_type": "stream",
     "text": [
      "Enter your salary: 20000\n",
      "Enter your years of service: 6\n",
      "Congratulations! You are eligible for a 5% bonus.\n",
      "Net bonus amount: $1000.00\n"
     ]
    }
   ],
   "source": [
    "salary = float(input(\"Enter your salary: \"))\n",
    "years_of_service = int(input(\"Enter your years of service: \"))\n",
    "\n",
    "if years_of_service > 5:\n",
    "    bonus_percentage = 5\n",
    "    bonus_amount = (bonus_percentage / 100) * salary\n",
    "    print(f\"Congratulations! You are eligible for a {bonus_percentage}% bonus.\")\n",
    "    print(f\"Net bonus amount: ${bonus_amount:.2f}\")\n",
    "else:\n",
    "    print(\"Sorry, you are not eligible for a bonus.\")"
   ]
  },
  {
   "cell_type": "markdown",
   "id": "41f8dd1a",
   "metadata": {},
   "source": [
    "####  2) Write a program to check whether a person is eligible for voting or not. (accept age from user) if age is greater than 17 eligible otherwise not eligible"
   ]
  },
  {
   "cell_type": "code",
   "execution_count": 3,
   "id": "959942fe",
   "metadata": {},
   "outputs": [
    {
     "name": "stdout",
     "output_type": "stream",
     "text": [
      "Entre Your Age16\n",
      "Sorry, You are not Eligible to Vote\n"
     ]
    }
   ],
   "source": [
    "age = int(input(\"Entre Your Age\"))\n",
    "\n",
    "if age > 17:\n",
    "    print(\"You are Eligible to Vote\")\n",
    "else:\n",
    "    print(\"Sorry, You are not Eligible to Vote\")"
   ]
  },
  {
   "cell_type": "markdown",
   "id": "b107da88",
   "metadata": {},
   "source": [
    "####  3) Write a program to check whether a number entered by user is even or odd."
   ]
  },
  {
   "cell_type": "code",
   "execution_count": 4,
   "id": "5392fdb6",
   "metadata": {},
   "outputs": [
    {
     "name": "stdout",
     "output_type": "stream",
     "text": [
      "Entre a Number: 3\n",
      "3 is an odd number\n"
     ]
    }
   ],
   "source": [
    "number = int(input(\"Entre a Number: \"))\n",
    "\n",
    "if number % 2==0:\n",
    "    print(f\"{number} is an even number\")\n",
    "else:\n",
    "    print(f\"{number} is an odd number\")"
   ]
  },
  {
   "cell_type": "markdown",
   "id": "8c3f5656",
   "metadata": {},
   "source": [
    "####  4) Write a program to check whether a number is divisible by 7 or not."
   ]
  },
  {
   "cell_type": "code",
   "execution_count": 8,
   "id": "761ca368",
   "metadata": {},
   "outputs": [
    {
     "name": "stdout",
     "output_type": "stream",
     "text": [
      "Enter a number: 21\n",
      "21 is divisible by 7.\n"
     ]
    }
   ],
   "source": [
    "number = int(input(\"Enter a number: \"))\n",
    "\n",
    "if number % 7 == 0:\n",
    "    print(f\"{number} is divisible by 7.\")\n",
    "else:\n",
    "    print(f\"{number} is not divisible by 7.\")"
   ]
  },
  {
   "cell_type": "markdown",
   "id": "5162cff3",
   "metadata": {},
   "source": [
    "####  5) Write a program to display \n",
    "\"Hello\" if a number entered by user is a multiple of five , otherwise print \"Bye\"."
   ]
  },
  {
   "cell_type": "code",
   "execution_count": 11,
   "id": "60355917",
   "metadata": {},
   "outputs": [
    {
     "name": "stdout",
     "output_type": "stream",
     "text": [
      "Entre a Number: 23\n",
      "bye\n"
     ]
    }
   ],
   "source": [
    "number = int(input(\"Entre a Number: \"))\n",
    "\n",
    "if number % 5==0:\n",
    "    print (\"Hellow\")\n",
    "else:\n",
    "    print (\"bye\")"
   ]
  },
  {
   "cell_type": "markdown",
   "id": "3c84123f",
   "metadata": {},
   "source": [
    "####  7) Write a program to display the last digit of a number.\n"
   ]
  },
  {
   "cell_type": "code",
   "execution_count": 15,
   "id": "f1bd6e94",
   "metadata": {},
   "outputs": [
    {
     "name": "stdout",
     "output_type": "stream",
     "text": [
      "Enter a number: 15552\n",
      "The last digit of 15552 is 2.\n"
     ]
    }
   ],
   "source": [
    "number = int(input(\"Enter a number: \"))\n",
    "\n",
    "last_digit = number % 10\n",
    "\n",
    "print(f\"The last digit of {number} is {last_digit}.\")"
   ]
  },
  {
   "cell_type": "markdown",
   "id": "2c48994d",
   "metadata": {},
   "source": [
    "####  Q8. Write a program to check whether the last digit of a number( entered by user ) is divisible by 3 or not."
   ]
  },
  {
   "cell_type": "code",
   "execution_count": 18,
   "id": "72b9d757",
   "metadata": {},
   "outputs": [
    {
     "name": "stdout",
     "output_type": "stream",
     "text": [
      "Entre a Number: 1443\n",
      "last digit of number is divisible\n"
     ]
    }
   ],
   "source": [
    "number = int(input(\"Entre a Number: \"))\n",
    "\n",
    "last_digit = number % 10\n",
    "\n",
    "if last_digit % 3==0:\n",
    "    print (\"last digit of number is divisible\")\n",
    "else:\n",
    "    print(\"last digit of number is not divisible\")"
   ]
  },
  {
   "cell_type": "markdown",
   "id": "526e3384",
   "metadata": {},
   "source": [
    "####  9) Take values of length and breadth of a rectangle from user and print if it is square or rectangle."
   ]
  },
  {
   "cell_type": "code",
   "execution_count": 20,
   "id": "6eef9d2a",
   "metadata": {},
   "outputs": [
    {
     "name": "stdout",
     "output_type": "stream",
     "text": [
      "Entre lenght of the rectangle: 24\n",
      "Entre breadth of the rectangle: 24\n",
      "It is sqare\n"
     ]
    }
   ],
   "source": [
    "lenght = float(input(\"Entre lenght of the rectangle: \"))\n",
    "breadth = float(input(\"Entre breadth of the rectangle: \"))\n",
    "\n",
    "if lenght == breadth:\n",
    "    print(\"It is sqare\")\n",
    "else:\n",
    "    print(\"It is rectengle\")"
   ]
  },
  {
   "cell_type": "markdown",
   "id": "c3add00a",
   "metadata": {},
   "source": [
    "####  10) Take two int values from user and print greatest among them."
   ]
  },
  {
   "cell_type": "code",
   "execution_count": 21,
   "id": "3665ae8d",
   "metadata": {},
   "outputs": [
    {
     "name": "stdout",
     "output_type": "stream",
     "text": [
      "Entre the f_integer: 12\n",
      "Entre the sec_integer: 10\n",
      "The gretest number is: 12\n"
     ]
    }
   ],
   "source": [
    "num1 = int(input(\"Entre the f_integer: \"))\n",
    "num2 = int(input(\"Entre the sec_integer: \"))\n",
    "\n",
    "if num1 > num2:\n",
    "    print(f\"The gretest number is: {num1}\")\n",
    "elif num2 > num1:\n",
    "    print(f\"The gretest number is: {num2}\")\n",
    "else:\n",
    "    print(\"both values are equal\")"
   ]
  },
  {
   "cell_type": "markdown",
   "id": "01058d99",
   "metadata": {},
   "source": [
    "####  11) A shop will give discount of 10% if the cost of purchased quantity is more than 1000.\n",
    "Ask user for quantity\n",
    "Suppose, one unit will cost 100.\n",
    "Judge and print total cost for user."
   ]
  },
  {
   "cell_type": "code",
   "execution_count": 23,
   "id": "16db8053",
   "metadata": {},
   "outputs": [
    {
     "name": "stdout",
     "output_type": "stream",
     "text": [
      "Enter the quantity: 9\n",
      "Total cost: $900.00\n"
     ]
    }
   ],
   "source": [
    "quantity = int(input(\"Enter the quantity: \"))\n",
    "\n",
    "cost_per_unit = 100\n",
    "\n",
    "total_cost = quantity * cost_per_unit\n",
    "\n",
    "if total_cost > 1000:\n",
    "    discount = 0.1 * total_cost\n",
    "    total_cost -= discount\n",
    "    print(f\"Congratulations! You get a 10% discount.\")\n",
    "    print(f\"Total cost after discount: ${total_cost:.2f}\")\n",
    "else:\n",
    "    print(f\"Total cost: ${total_cost:.2f}\")"
   ]
  },
  {
   "cell_type": "markdown",
   "id": "194b1924",
   "metadata": {},
   "source": [
    "####  12) A school has following rules for grading system:\n",
    "\n",
    "a. Below 25 - F\n",
    "\n",
    "b. 25 to 45 - E\n",
    "\n",
    "c. 45 to 50 - D\n",
    "\n",
    "d. 50 to 60 - C\n",
    "\n",
    "e. 60 to 80 - B\n",
    "\n",
    "f. Above 80 - A\n",
    "\n",
    "Ask user to enter marks and print the corresponding grade"
   ]
  },
  {
   "cell_type": "code",
   "execution_count": 26,
   "id": "a09f3184",
   "metadata": {},
   "outputs": [
    {
     "name": "stdout",
     "output_type": "stream",
     "text": [
      "Entre Your Marks: 68\n",
      "Your grade is: B\n"
     ]
    }
   ],
   "source": [
    "marks = float(input(\"Entre Your Marks: \"))\n",
    "\n",
    "if marks < 25:\n",
    "    grade = 'F'\n",
    "elif marks >= 25 and marks < 45:\n",
    "    grade = 'E'\n",
    "elif marks >= 45 and marks < 50:\n",
    "    grade = 'D'\n",
    "elif marks >= 50 and marks < 60:\n",
    "    grade = 'C'\n",
    "elif marks >= 60 and marks < 80:\n",
    "    grade = 'B'\n",
    "else:\n",
    "    grade = 'A'\n",
    "print(f\"Your grade is: {grade}\")"
   ]
  },
  {
   "cell_type": "markdown",
   "id": "18d47dd4",
   "metadata": {},
   "source": [
    "####  14)A student will not be allowed to sit in exam if his/her attendence is less than 75%.\n",
    "\n",
    "Take following input from user\n",
    "\n",
    "Number of classes held\n",
    "\n",
    "Number of classes attended.\n",
    "\n",
    "And print\n",
    "\n",
    "percentage of class attended\n",
    "\n",
    "Is student is allowed to sit in exam or not.\n"
   ]
  },
  {
   "cell_type": "code",
   "execution_count": 30,
   "id": "995df133",
   "metadata": {},
   "outputs": [
    {
     "name": "stdout",
     "output_type": "stream",
     "text": [
      "Entre the number of classes held: 82\n",
      "Entre the number of classes attended: 18\n",
      "Percentage of classes attended: 21.95%\n",
      "Sorry, You are not allowed to sit in the exam due to low attendance.\n"
     ]
    }
   ],
   "source": [
    "classes_held = int(input(\"Entre the number of classes held: \"))\n",
    "classes_attended = int(input(\"Entre the number of classes attended: \"))\n",
    "\n",
    "attendance_percentage = (classes_attended / classes_held) * 100\n",
    "print(f\"Percentage of classes attended: {attendance_percentage:.2f}%\")\n",
    "if attendance_percentage >= 75:\n",
    "    print(\"You are allowed to sit in the exam.\")\n",
    "else:\n",
    "    print(\"Sorry, You are not allowed to sit in the exam due to low attendance.\")"
   ]
  },
  {
   "cell_type": "markdown",
   "id": "1adb6b8d",
   "metadata": {},
   "source": [
    "####  15) Modify the above question to allow student to sit if he/she has medical cause. Ask user if he/she has medical cause or not ( 'Y' or 'N' ) and print accordingly."
   ]
  },
  {
   "cell_type": "code",
   "execution_count": 31,
   "id": "1e9044da",
   "metadata": {},
   "outputs": [
    {
     "name": "stdout",
     "output_type": "stream",
     "text": [
      "Entre the number of classes held: 76\n",
      "Entre the number of classes attended: 24\n",
      "Percentage of classes attended: 31.58%\n",
      "Do you have a medical cause? (Enter 'Y' for Yes, 'N' for No): y\n",
      "You are allowed to sit in the exam.\n"
     ]
    }
   ],
   "source": [
    "classes_held = int(input(\"Entre the number of classes held: \"))\n",
    "classes_attended = int(input(\"Entre the number of classes attended: \"))\n",
    "\n",
    "attendance_percentage = (classes_attended / classes_held) * 100\n",
    "print(f\"Percentage of classes attended: {attendance_percentage:.2f}%\")\n",
    "medical_cause = input(\"Do you have a medical cause? (Enter 'Y' for Yes, 'N' for No): \")\n",
    "if attendance_percentage >= 75 or medical_cause.upper() == 'Y':\n",
    "    print(\"You are allowed to sit in the exam.\")\n",
    "else:\n",
    "    print(\"Sorry, You are not allowed to sit in the exam due to low attendance.\")"
   ]
  },
  {
   "cell_type": "markdown",
   "id": "586b38d6",
   "metadata": {},
   "source": [
    "####  16) Write a program to check if a year is leap year or not.\n",
    "\n",
    "If a year is divisible by 4 then it is leap year but if the year is century year like 2000, 1900, 2100 then it must be divisible by 400."
   ]
  },
  {
   "cell_type": "code",
   "execution_count": 33,
   "id": "8e77ded6",
   "metadata": {},
   "outputs": [
    {
     "name": "stdout",
     "output_type": "stream",
     "text": [
      "Enter a year: 2023\n",
      "2023 is not a leap year.\n"
     ]
    }
   ],
   "source": [
    "year = int(input(\"Enter a year: \"))\n",
    "\n",
    "if (year % 4 == 0 and year % 100 != 0) or (year % 400 == 0):\n",
    "    print(f\"{year} is a leap year.\")\n",
    "else:\n",
    "    print(f\"{year} is not a leap year.\")"
   ]
  },
  {
   "cell_type": "markdown",
   "id": "54264a08",
   "metadata": {},
   "source": [
    "####  17) Ask user to enter age, gender ( M or F ), marital status ( Y or N ) and then using following rules print their place of service.\n",
    "\n",
    "if employee is female, then she will work only in urban areas.\n",
    "\n",
    "if employee is a male and age is in between 20 to 40 then he may work in anywhere\n",
    "\n",
    "if employee is male and age is in between 40 t0 60 then he will work in urban areas only.\n",
    "\n",
    "And any other input of age should print \"ERROR\""
   ]
  },
  {
   "cell_type": "code",
   "execution_count": 34,
   "id": "f0769d23",
   "metadata": {},
   "outputs": [
    {
     "name": "stdout",
     "output_type": "stream",
     "text": [
      "Enter your age: 24\n",
      "Enter your gender (M or F): m\n",
      "Enter your marital status (Y or N): n\n",
      "You may work anywhere.\n"
     ]
    }
   ],
   "source": [
    "age = int(input(\"Enter your age: \"))\n",
    "gender = input(\"Enter your gender (M or F): \").upper()\n",
    "marital_status = input(\"Enter your marital status (Y or N): \").upper()\n",
    "\n",
    "if gender == 'F':\n",
    "    print(\"You will work in urban areas.\")\n",
    "elif gender == 'M' and 20 <= age <= 40:\n",
    "    print(\"You may work anywhere.\")\n",
    "elif gender == 'M' and 40 <= age <= 60:\n",
    "    print(\"You will work in urban areas only.\")\n",
    "else:\n",
    "    print(\"ERROR\")"
   ]
  },
  {
   "cell_type": "markdown",
   "id": "5ee9f34f",
   "metadata": {},
   "source": [
    "#### 6) Write a program to calculate the electricity bill (accept number of unit from user) according to the following criteria :\n",
    "     Unit                                                     Price  \n",
    "uptp 100 units                                             no charge\n",
    "Next 200 units                                              Rs 5 per unit\n",
    "After 200 units                                             Rs 10 per unit\n",
    "(For example if input unit is 350 than total bill amount is Rs.3500\n",
    "(For example if input unit is 97 than total bill amount is Rs.0\n",
    "(For example if input unit is 150 than total bill amount is Rs.750"
   ]
  },
  {
   "cell_type": "code",
   "execution_count": 37,
   "id": "4d1d7bca",
   "metadata": {},
   "outputs": [
    {
     "name": "stdout",
     "output_type": "stream",
     "text": [
      "Enter the number of units: 112\n",
      "Total bill amount is Rs.60\n"
     ]
    }
   ],
   "source": [
    "units = int(input(\"Enter the number of units: \"))\n",
    "\n",
    "total_bill = 0\n",
    "rate_up_to_100 = 0\n",
    "rate_up_to_300 = 5\n",
    "rate_above_300 = 10\n",
    "\n",
    "if units <= 100:\n",
    "    total_bill = 0\n",
    "elif units <= 300:\n",
    "    total_bill = (units - 100) * rate_up_to_300\n",
    "elif units > 300:\n",
    "    total_bill = (200 * rate_up_to_300) + ((units - 300) * rate_above_300)\n",
    "\n",
    "print(f\"Total bill amount is Rs.{total_bill}\")"
   ]
  },
  {
   "cell_type": "markdown",
   "id": "8ed2166a",
   "metadata": {},
   "source": [
    "####  13) Take input of age of 3 people by user and determine oldest and youngest among them."
   ]
  },
  {
   "cell_type": "code",
   "execution_count": 38,
   "id": "682a29ec",
   "metadata": {},
   "outputs": [
    {
     "name": "stdout",
     "output_type": "stream",
     "text": [
      "Enter age of person 1: 16\n",
      "Enter age of person 2: 24\n",
      "Enter age of person 3: 26\n",
      "The oldest person is 26 years old.\n",
      "The youngest person is 16 years old.\n"
     ]
    }
   ],
   "source": [
    "age1 = int(input(\"Enter age of person 1: \"))\n",
    "age2 = int(input(\"Enter age of person 2: \"))\n",
    "age3 = int(input(\"Enter age of person 3: \"))\n",
    "\n",
    "oldest = max(age1, age2, age3)\n",
    "youngest = min(age1, age2, age3)\n",
    "\n",
    "print(f\"The oldest person is {oldest} years old.\")\n",
    "print(f\"The youngest person is {youngest} years old.\")"
   ]
  }
 ],
 "metadata": {
  "kernelspec": {
   "display_name": "Python 3 (ipykernel)",
   "language": "python",
   "name": "python3"
  },
  "language_info": {
   "codemirror_mode": {
    "name": "ipython",
    "version": 3
   },
   "file_extension": ".py",
   "mimetype": "text/x-python",
   "name": "python",
   "nbconvert_exporter": "python",
   "pygments_lexer": "ipython3",
   "version": "3.11.5"
  }
 },
 "nbformat": 4,
 "nbformat_minor": 5
}
